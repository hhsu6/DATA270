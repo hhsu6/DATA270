{
 "cells": [
  {
   "cell_type": "markdown",
   "id": "142d29be-fc4d-40c3-a1a9-90ae0699c445",
   "metadata": {
    "tags": []
   },
   "source": [
    "### 1. Load Datasets"
   ]
  },
  {
   "cell_type": "markdown",
   "id": "f9188415-b4da-43a3-9f3b-26dd342e3a3f",
   "metadata": {},
   "source": [
    "#### 1-1. Load and extract data"
   ]
  },
  {
   "cell_type": "code",
   "execution_count": 1,
   "id": "d246e7f5-87af-4bcb-9586-9c1492405a63",
   "metadata": {},
   "outputs": [
    {
     "name": "stderr",
     "output_type": "stream",
     "text": [
      "WARNING: An illegal reflective access operation has occurred\n",
      "WARNING: Illegal reflective access by org.apache.spark.unsafe.Platform (file:/opt/anaconda3/lib/python3.9/site-packages/pyspark/jars/spark-unsafe_2.12-3.2.1.jar) to constructor java.nio.DirectByteBuffer(long,int)\n",
      "WARNING: Please consider reporting this to the maintainers of org.apache.spark.unsafe.Platform\n",
      "WARNING: Use --illegal-access=warn to enable warnings of further illegal reflective access operations\n",
      "WARNING: All illegal access operations will be denied in a future release\n",
      "Using Spark's default log4j profile: org/apache/spark/log4j-defaults.properties\n",
      "Setting default log level to \"WARN\".\n",
      "To adjust logging level use sc.setLogLevel(newLevel). For SparkR, use setLogLevel(newLevel).\n",
      "23/05/14 15:59:28 WARN NativeCodeLoader: Unable to load native-hadoop library for your platform... using builtin-java classes where applicable\n"
     ]
    }
   ],
   "source": [
    "from pyspark.sql import SparkSession\n",
    "\n",
    "# Create a spark session\n",
    "spark = SparkSession.builder.config('spark.ui.showConsoleProgress', 'false').config('spark.driver.memory', '5g').getOrCreate()\n",
    "spark.sparkContext.setLogLevel(\"ERROR\")\n",
    "\n",
    "# Read and combine input files\n",
    "df_list = []\n",
    "for i in range(13, 27):\n",
    "    df_list.append(spark.read.text('d04_text_station_5min_2023_02_'+str(i)+'.txt'))\n",
    "\n",
    "df0 = df_list[0]\n",
    "for i in range(1, len(df_list)):\n",
    "    df0 = df0.union(df_list[i])"
   ]
  },
  {
   "cell_type": "code",
   "execution_count": 2,
   "id": "eda39d43-d749-4bdf-9020-f3ba9d5b341d",
   "metadata": {},
   "outputs": [
    {
     "name": "stdout",
     "output_type": "stream",
     "text": [
      "+------------------------------------------------------------------------------------------------------------------------------------------------------+\n",
      "|                                                                                                                                                 value|\n",
      "+------------------------------------------------------------------------------------------------------------------------------------------------------+\n",
      "|02/13/2023 00:00:00,400001,4,101,N,ML,.265,50,100,51,.0083,71,10,5,.0034,76.5,1,10,15,.0092,74,1,10,10,.0098,72,1,10,12,.0113,69.2,1,10,9,.0078,64....|\n",
      "|02/13/2023 00:00:00,400007,4,101,N,ML,.365,50,0,109,.0225,68.6,10,20,.0237,71.5,0,10,35,.027,70.5,0,10,31,.0353,67,0,10,18,.0244,66,0,10,5,.002,64....|\n",
      "|02/13/2023 00:00:00,400010,4,101,N,ML,.47,38,75,43,.0071,65.2,10,0,0,74.8,1,10,7,.004,71,1,10,20,.0129,67.4,1,8,16,.0115,59.9,0,,,,,0,,,,,0,,,,,0,,...|\n",
      "|02/13/2023 00:00:00,400014,4,101,N,ML,.29,50,60,57,.0101,68.6,10,6,.0047,75.8,0,10,17,.0116,74,1,10,12,.0113,72,1,10,19,.021,60,0,10,3,.002,64.5,1,...|\n",
      "|02/13/2023 00:00:00,400039,4,101,N,ML,.195,40,100,57,.0099,65.6,10,0,0,74.8,1,10,8,.0054,71,1,10,21,.014,67.4,1,10,28,.0203,62.8,1,,,,,0,,,,,0,,,,,...|\n",
      "+------------------------------------------------------------------------------------------------------------------------------------------------------+\n",
      "only showing top 5 rows\n",
      "\n"
     ]
    }
   ],
   "source": [
    "# Extract highway 101 north bound data\n",
    "df1 = df0.filter(df0.value.rlike(\"^../../....\\s..:..:..,......,.,101,N.*\"))\n",
    "df1.show(5, truncate=150)"
   ]
  },
  {
   "cell_type": "markdown",
   "id": "8db85073-e284-4a33-8cba-9b38b3a4a3b3",
   "metadata": {
    "tags": []
   },
   "source": [
    "#### 1-2. Structure dataframe"
   ]
  },
  {
   "cell_type": "code",
   "execution_count": 3,
   "id": "10e9faba-1031-41af-9d60-340295e2dca2",
   "metadata": {},
   "outputs": [],
   "source": [
    "from pyspark.sql.functions import split, col, when, to_timestamp, to_date, dayofweek, hour, minute\n",
    "\n",
    "# Construct the date/time columns\n",
    "df1 = df1.withColumn('timestamp', split(df1['value'], ',').getItem(0)) \\\n",
    "         .withColumn('timestamp',to_timestamp('timestamp', 'MM/dd/yyyy HH:mm:ss')) \\\n",
    "         .withColumn('date', to_date(col('timestamp'))) \\\n",
    "         .withColumn('dayofweek', dayofweek(col('date'))) \\\n",
    "         .withColumn('hour', hour(col('timestamp'))) \\\n",
    "         .withColumn('minute', minute(col('timestamp')))\n",
    "\n",
    "# Construct the holiday column\n",
    "df1 = df1.withColumn('holiday', when((df1.dayofweek == 1) | (df1.dayofweek == 7) | (df1.date == '2023-02-20'), 'Y').otherwise('N'))\n",
    "\n",
    "# Construct overall traffic attributes\n",
    "df1 = df1.withColumn('station', split(df1['value'], ',').getItem(1)).withColumn('district', split(df1['value'], ',').getItem(2)) \\\n",
    "         .withColumn('freeway', split(df1['value'], ',').getItem(3)).withColumn('direction', split(df1['value'], ',').getItem(4)) \\\n",
    "         .withColumn('lane_type', split(df1['value'], ',').getItem(5)).withColumn('station_length', split(df1['value'], ',').getItem(6)) \\\n",
    "         .withColumn('samples', split(df1['value'], ',').getItem(7)).withColumn('pct_observed', split(df1['value'], ',').getItem(8)) \\\n",
    "         .withColumn('total_flow', split(df1['value'], ',').getItem(9)).withColumn('avg_occupancy', split(df1['value'], ',').getItem(10)) \\\n",
    "         .withColumn('avg_speed', split(df1['value'], ',').getItem(11))\n",
    "\n",
    "# Construct lane specific columns\n",
    "for i in range(1, 11):\n",
    "    item_no = [7 + 5*i + j for j in range(5)]\n",
    "    df1 = df1.withColumn('lane_'+str(i)+'_samples', split(df1['value'], ',').getItem(item_no[0])) \\\n",
    "             .withColumn('lane_'+str(i)+'_flow', split(df1['value'], ',').getItem(item_no[1])) \\\n",
    "             .withColumn('lane_'+str(i)+'_avg_occ', split(df1['value'], ',').getItem(item_no[2])) \\\n",
    "             .withColumn('lane_'+str(i)+'_avg_speed', split(df1['value'], ',').getItem(item_no[3])) \\\n",
    "             .withColumn('lane_'+str(i)+'_observed', split(df1['value'], ',').getItem(item_no[4]))\n",
    "\n",
    "# Construct the target (label) column\n",
    "df1 = df1.withColumn('traffic_condition', when(df1.avg_speed < 40, 2).when((df1.avg_speed >= 40)&(df1.avg_speed < 60), 1).when(df1.avg_speed >= 60, 0).otherwise(-1))\n",
    "\n",
    "df1 = df1.select(df1.columns[1:]).orderBy('timestamp', 'station')"
   ]
  },
  {
   "cell_type": "markdown",
   "id": "45622328-5acc-4042-a75c-e80123216c05",
   "metadata": {
    "tags": []
   },
   "source": [
    "#### 1-3. Cast column data types"
   ]
  },
  {
   "cell_type": "code",
   "execution_count": 4,
   "id": "4f9a88ac-977c-4932-b853-8dc20cefa5b2",
   "metadata": {},
   "outputs": [
    {
     "name": "stdout",
     "output_type": "stream",
     "text": [
      "root\n",
      " |-- timestamp: timestamp (nullable = true)\n",
      " |-- date: date (nullable = true)\n",
      " |-- dayofweek: integer (nullable = true)\n",
      " |-- hour: integer (nullable = true)\n",
      " |-- minute: integer (nullable = true)\n",
      " |-- holiday: string (nullable = false)\n",
      " |-- station: string (nullable = true)\n",
      " |-- district: string (nullable = true)\n",
      " |-- freeway: string (nullable = true)\n",
      " |-- direction: string (nullable = true)\n",
      " |-- lane_type: string (nullable = true)\n",
      " |-- station_length: double (nullable = true)\n",
      " |-- samples: integer (nullable = true)\n",
      " |-- pct_observed: integer (nullable = true)\n",
      " |-- total_flow: integer (nullable = true)\n",
      " |-- avg_occupancy: double (nullable = true)\n",
      " |-- avg_speed: double (nullable = true)\n",
      " |-- lane_1_samples: integer (nullable = true)\n",
      " |-- lane_1_flow: integer (nullable = true)\n",
      " |-- lane_1_avg_occ: double (nullable = true)\n",
      " |-- lane_1_avg_speed: double (nullable = true)\n",
      " |-- lane_1_observed: integer (nullable = true)\n",
      " |-- lane_2_samples: integer (nullable = true)\n",
      " |-- lane_2_flow: integer (nullable = true)\n",
      " |-- lane_2_avg_occ: double (nullable = true)\n",
      " |-- lane_2_avg_speed: double (nullable = true)\n",
      " |-- lane_2_observed: integer (nullable = true)\n",
      " |-- lane_3_samples: integer (nullable = true)\n",
      " |-- lane_3_flow: integer (nullable = true)\n",
      " |-- lane_3_avg_occ: double (nullable = true)\n",
      " |-- lane_3_avg_speed: double (nullable = true)\n",
      " |-- lane_3_observed: integer (nullable = true)\n",
      " |-- lane_4_samples: integer (nullable = true)\n",
      " |-- lane_4_flow: integer (nullable = true)\n",
      " |-- lane_4_avg_occ: double (nullable = true)\n",
      " |-- lane_4_avg_speed: double (nullable = true)\n",
      " |-- lane_4_observed: integer (nullable = true)\n",
      " |-- lane_5_samples: integer (nullable = true)\n",
      " |-- lane_5_flow: integer (nullable = true)\n",
      " |-- lane_5_avg_occ: double (nullable = true)\n",
      " |-- lane_5_avg_speed: double (nullable = true)\n",
      " |-- lane_5_observed: integer (nullable = true)\n",
      " |-- lane_6_samples: integer (nullable = true)\n",
      " |-- lane_6_flow: integer (nullable = true)\n",
      " |-- lane_6_avg_occ: double (nullable = true)\n",
      " |-- lane_6_avg_speed: double (nullable = true)\n",
      " |-- lane_6_observed: integer (nullable = true)\n",
      " |-- lane_7_samples: integer (nullable = true)\n",
      " |-- lane_7_flow: integer (nullable = true)\n",
      " |-- lane_7_avg_occ: double (nullable = true)\n",
      " |-- lane_7_avg_speed: double (nullable = true)\n",
      " |-- lane_7_observed: integer (nullable = true)\n",
      " |-- lane_8_samples: integer (nullable = true)\n",
      " |-- lane_8_flow: integer (nullable = true)\n",
      " |-- lane_8_avg_occ: double (nullable = true)\n",
      " |-- lane_8_avg_speed: double (nullable = true)\n",
      " |-- lane_8_observed: integer (nullable = true)\n",
      " |-- lane_9_samples: integer (nullable = true)\n",
      " |-- lane_9_flow: integer (nullable = true)\n",
      " |-- lane_9_avg_occ: double (nullable = true)\n",
      " |-- lane_9_avg_speed: double (nullable = true)\n",
      " |-- lane_9_observed: integer (nullable = true)\n",
      " |-- lane_10_samples: integer (nullable = true)\n",
      " |-- lane_10_flow: integer (nullable = true)\n",
      " |-- lane_10_avg_occ: double (nullable = true)\n",
      " |-- lane_10_avg_speed: double (nullable = true)\n",
      " |-- lane_10_observed: integer (nullable = true)\n",
      " |-- traffic_condition: integer (nullable = false)\n",
      "\n"
     ]
    }
   ],
   "source": [
    "integer_columns = ['samples', 'pct_observed', 'total_flow', 'traffic_condition']\n",
    "double_columns = ['station_length', 'avg_occupancy', 'avg_speed']\n",
    "for i in range(1, 11):\n",
    "    integer_columns += ['lane_'+str(i)+'_samples', 'lane_'+str(i)+'_flow',  'lane_'+str(i)+'_observed']\n",
    "    double_columns += ['lane_'+str(i)+'_avg_occ', 'lane_'+str(i)+'_avg_speed']\n",
    "\n",
    "# Integer columns\n",
    "for column in integer_columns:\n",
    "    df1 = df1.withColumn(column, df1[column].cast('integer'))\n",
    "\n",
    "# Double columns\n",
    "for column in double_columns:\n",
    "    df1 = df1.withColumn(column, df1[column].cast('double'))\n",
    "    \n",
    "df1.printSchema()"
   ]
  },
  {
   "cell_type": "markdown",
   "id": "ce23119a-7c65-47d9-b122-3e2bd5623f52",
   "metadata": {
    "tags": []
   },
   "source": [
    "#### 1-4. Target class statistics"
   ]
  },
  {
   "cell_type": "code",
   "execution_count": 5,
   "id": "14d3b2cd-5e1a-4f33-911a-88e757bec738",
   "metadata": {
    "tags": []
   },
   "outputs": [
    {
     "name": "stdout",
     "output_type": "stream",
     "text": [
      "            Normal (Class 0):  1416535 instances\n",
      "Slightly congested (Class 1):   140295 instances\n",
      "         Congested (Class 2):    27746 instances\n"
     ]
    }
   ],
   "source": [
    "c0 = df1.select('*').where(df1.traffic_condition == 0).count()\n",
    "c1 = df1.select('*').where(df1.traffic_condition == 1).count()\n",
    "c2 = df1.select('*').where(df1.traffic_condition == 2).count()\n",
    "\n",
    "print(f\"            Normal (Class 0): {c0:8} instances\")\n",
    "print(f\"Slightly congested (Class 1): {c1:8} instances\")\n",
    "print(f\"         Congested (Class 2): {c2:8} instances\")"
   ]
  },
  {
   "cell_type": "code",
   "execution_count": 6,
   "id": "33d9df45-bde3-4b1a-a7c6-8bf265f32856",
   "metadata": {},
   "outputs": [
    {
     "data": {
      "image/png": "[encoded data removed]",
      "text/plain": [
       "<Figure size 648x432 with 1 Axes>"
      ]
     },
     "metadata": {
      "needs_background": "light"
     },
     "output_type": "display_data"
    }
   ],
   "source": [
    "import matplotlib.pyplot as plt \n",
    "\n",
    "plt.figure(figsize =(9, 6))\n",
    "plt.bar(['Normal (Class 0)', 'Slightly congested (Class 1)', 'Congested (Class 2)'], [c0, c1, c2], color='goldenrod', width=0.6)\n",
    "plt.xticks(fontsize=10)\n",
    "plt.xlabel('Class')\n",
    "plt.ylabel('Count')\n",
    "plt.title('Class Instance Count', fontweight =\"bold\")\n",
    "plt.show()"
   ]
  },
  {
   "cell_type": "markdown",
   "id": "97745371-890a-4ca3-bf55-765ae36203a8",
   "metadata": {},
   "source": [
    "#### 1-5. Numerical attribute statistics (partial)"
   ]
  },
  {
   "cell_type": "code",
   "execution_count": 7,
   "id": "751bbdc7-aec4-4f28-abdc-06930c19f6a2",
   "metadata": {},
   "outputs": [
    {
     "name": "stdout",
     "output_type": "stream",
     "text": [
      "+-------+------------------+------------------+-------------------+--------------------+\n",
      "|summary|         avg_speed|        total_flow|     station_length|       avg_occupancy|\n",
      "+-------+------------------+------------------+-------------------+--------------------+\n",
      "|  count|           1584576|           2057075|            1584576|             2057075|\n",
      "|   mean| 64.33039942546299|169.67859314803786| 0.4370229007633489| 0.04322411093421779|\n",
      "| stddev|6.3958047270452205|159.26961217040719|0.22570913655204336|0.048815453669553685|\n",
      "|    min|               3.0|                 0|              0.045|                 0.0|\n",
      "|    max|              81.2|              1015|               2.52|              0.9992|\n",
      "+-------+------------------+------------------+-------------------+--------------------+\n",
      "\n"
     ]
    }
   ],
   "source": [
    "df1.describe(['avg_speed', 'total_flow', 'station_length', 'avg_occupancy']).show()"
   ]
  },
  {
   "cell_type": "code",
   "execution_count": 8,
   "id": "d053a706-4f05-4f61-9280-f2a43ed35788",
   "metadata": {},
   "outputs": [
    {
     "data": {
      "image/png": "[encoded data removed]",
      "text/plain": [
       "<Figure size 1152x576 with 4 Axes>"
      ]
     },
     "metadata": {
      "needs_background": "light"
     },
     "output_type": "display_data"
    }
   ],
   "source": [
    "# Numecial attribute summary\n",
    "avs = df1.select('avg_speed').na.drop().collect()\n",
    "tof = df1.select('total_flow').na.drop().collect()\n",
    "stl = df1.select('station_length').na.drop().collect()\n",
    "avo = df1.select('avg_occupancy').na.drop().collect()\n",
    "\n",
    "avs_d, tof_d, stl_d, avo_d = [], [], [], []\n",
    "for i in range(len(avs)):\n",
    "    if i % 1000 == 0:\n",
    "        avs_d.append(avs[i][0])\n",
    "for i in range(len(tof)):\n",
    "    if i % 1000 == 0:\n",
    "        tof_d.append(tof[i][0])\n",
    "for i in range(len(stl)):\n",
    "    if i % 1000 == 0:\n",
    "        stl_d.append(stl[i][0])\n",
    "for i in range(len(avo)):\n",
    "    if i % 1000 == 0:\n",
    "        avo_d.append(avo[i][0])\n",
    "\n",
    "plt.figure(figsize =(16, 8))\n",
    "plt.subplot(141)\n",
    "plt.boxplot([avs_d], patch_artist=True,\n",
    "            boxprops=dict(facecolor='tab:blue', color='tab:blue'), capprops=dict(color='tab:blue'), whiskerprops=dict(color='tab:blue'), \n",
    "            flierprops=dict(color='tab:blue', markeredgecolor='tab:blue'),medianprops=dict(color='white'))\n",
    "plt.xticks(ticks=[1], labels=['Avg speed (mph)'])\n",
    "plt.ylabel('Value')\n",
    "\n",
    "plt.subplot(142)\n",
    "plt.boxplot([tof_d], patch_artist=True,\n",
    "            boxprops=dict(facecolor='goldenrod', color='goldenrod'), capprops=dict(color='goldenrod'), whiskerprops=dict(color='goldenrod'), \n",
    "            flierprops=dict(color='goldenrod', markeredgecolor='goldenrod'),medianprops=dict(color='white'))\n",
    "plt.xticks(ticks=[1], labels=['Total flow (Veh/5-min)'])\n",
    "plt.ylabel('Value')\n",
    "\n",
    "plt.subplot(143)\n",
    "plt.boxplot([stl_d], patch_artist=True,\n",
    "            boxprops=dict(facecolor='seagreen', color='seagreen'), capprops=dict(color='seagreen'), whiskerprops=dict(color='seagreen'), \n",
    "            flierprops=dict(color='seagreen', markeredgecolor='seagreen'),medianprops=dict(color='white'))\n",
    "plt.xticks(ticks=[1], labels=['Station length (mi)'])\n",
    "plt.ylabel('Value')\n",
    "\n",
    "plt.subplot(144)\n",
    "plt.boxplot([avo_d], patch_artist=True,\n",
    "            boxprops=dict(facecolor='darksalmon', color='darksalmon'), capprops=dict(color='darksalmon'), whiskerprops=dict(color='darksalmon'), \n",
    "            flierprops=dict(color='darksalmon', markeredgecolor='darksalmon'),medianprops=dict(color='white'))\n",
    "plt.xticks(ticks=[1], labels=['Avg occupancy (%)'])\n",
    "plt.ylabel('Value')\n",
    "\n",
    "plt.subplots_adjust(wspace=0.4)\n",
    "plt.show()"
   ]
  },
  {
   "cell_type": "code",
   "execution_count": 9,
   "id": "8eaea5f3-47c9-4bd1-9848-d6f8d9d093b1",
   "metadata": {},
   "outputs": [
    {
     "data": {
      "image/png": "[encoded data removed]",
      "text/plain": [
       "<Figure size 1152x1152 with 4 Axes>"
      ]
     },
     "metadata": {
      "needs_background": "light"
     },
     "output_type": "display_data"
    }
   ],
   "source": [
    "# Numecial attribute distribution\n",
    "x1 = df1.select('avg_speed').where(~df1.avg_speed.isNull()).rdd.flatMap(lambda x: x).collect()\n",
    "x2 = df1.select('total_flow').where(~df1.total_flow.isNull()).rdd.flatMap(lambda x: x).collect()\n",
    "x3 = df1.select('station_length').where(~df1.station_length.isNull()).rdd.flatMap(lambda x: x).collect()\n",
    "x4 = df1.select('avg_occupancy').where(~df1.avg_occupancy.isNull()).rdd.flatMap(lambda x: x).collect()\n",
    "\n",
    "plt.figure(figsize =(16, 16))\n",
    "plt.subplot(411)\n",
    "plt.hist(x1, 100, color='tab:blue')\n",
    "plt.xlabel('Avg speed (mph)')\n",
    "plt.ylabel('Count')\n",
    "plt.title('Avg_speed Distribution', fontweight =\"bold\")\n",
    "\n",
    "plt.subplot(412)\n",
    "plt.hist(x2, 100, color='goldenrod')\n",
    "plt.xlabel('Total flow (Veh/5-min)')\n",
    "plt.ylabel('Count')\n",
    "plt.title('Total_flow Distribution', fontweight =\"bold\")\n",
    "\n",
    "plt.subplot(413)\n",
    "plt.hist(x3, 100, color='seagreen')\n",
    "plt.xlabel('Station length (mi)')\n",
    "plt.ylabel('Count')\n",
    "plt.title('Station_length Distribution', fontweight =\"bold\")\n",
    "\n",
    "plt.subplot(414)\n",
    "plt.hist(x4, 100, color='darksalmon')\n",
    "plt.xlabel('Avg occupancy (%)')\n",
    "plt.ylabel('Count')\n",
    "plt.title('Avg_occupancy Distribution', fontweight =\"bold\")\n",
    "\n",
    "plt.subplots_adjust(hspace=0.4)\n",
    "plt.show()"
   ]
  },
  {
   "cell_type": "markdown",
   "id": "26275fc0-02a5-4081-b431-212061192781",
   "metadata": {},
   "source": [
    "#### 1-6. Visualize initial data (partial)"
   ]
  },
  {
   "cell_type": "code",
   "execution_count": 10,
   "id": "b7a588c9-8834-499b-91b6-bcd6c016538a",
   "metadata": {},
   "outputs": [
    {
     "data": {
      "image/png": "[encoded data removed]",
      "text/plain": [
       "<Figure size 1152x576 with 1 Axes>"
      ]
     },
     "metadata": {
      "needs_background": "light"
     },
     "output_type": "display_data"
    }
   ],
   "source": [
    "# Avg speed vs time plot\n",
    "s = df1.select('avg_speed').where(df1.station == 400001).rdd.flatMap(lambda x: x).collect()\n",
    "t = df1.select('timestamp').where(df1.station == 400001).rdd.flatMap(lambda x: x).collect()\n",
    "\n",
    "plt.figure(figsize =(16, 8))\n",
    "plt.plot(t, s, color='tab:blue', linewidth=2) \n",
    "\n",
    "plt.ylim([0, 100]) \n",
    "plt.xticks(ticks=[t[0], t[len(t)//2], t[-1]], labels=[t[0], t[len(t)//2], t[-1]])\n",
    "\n",
    "plt.ylabel('Avg speed (mph)')\n",
    "plt.xlabel('Timestamp')\n",
    "plt.title('Station 400001: Avg Speed vs Time', fontweight =\"bold\")\n",
    "plt.show()"
   ]
  },
  {
   "cell_type": "markdown",
   "id": "c171ded4-8b88-42f2-b466-39fb786169d3",
   "metadata": {},
   "source": [
    "###\n",
    "### 2. Data Cleaning"
   ]
  },
  {
   "cell_type": "markdown",
   "id": "cda829a7-8738-4288-8ecc-7611554a86f8",
   "metadata": {},
   "source": [
    "#### 2-1. Incomplete and missing data"
   ]
  },
  {
   "cell_type": "code",
   "execution_count": 11,
   "id": "60bddd1e-fa83-4820-812d-6722695ed32a",
   "metadata": {},
   "outputs": [
    {
     "name": "stdout",
     "output_type": "stream",
     "text": [
      "+----------+---------+----+------+-------+-------+--------------+----------+-------------+---------+-----------------+\n",
      "|date      |dayofweek|hour|minute|holiday|station|station_length|total_flow|avg_occupancy|avg_speed|traffic_condition|\n",
      "+----------+---------+----+------+-------+-------+--------------+----------+-------------+---------+-----------------+\n",
      "|2023-02-13|2        |0   |0     |N      |400001 |0.265         |51        |0.0083       |71.0     |0                |\n",
      "|2023-02-13|2        |0   |0     |N      |400007 |0.365         |109       |0.0225       |68.6     |0                |\n",
      "|2023-02-13|2        |0   |0     |N      |400010 |0.47          |43        |0.0071       |65.2     |0                |\n",
      "|2023-02-13|2        |0   |0     |N      |400014 |0.29          |57        |0.0101       |68.6     |0                |\n",
      "|2023-02-13|2        |0   |0     |N      |400039 |0.195         |57        |0.0099       |65.6     |0                |\n",
      "+----------+---------+----+------+-------+-------+--------------+----------+-------------+---------+-----------------+\n",
      "only showing top 5 rows\n",
      "\n"
     ]
    }
   ],
   "source": [
    "# Select relevant attributes to work with\n",
    "df2 = df1.select('date', 'dayofweek', 'hour', 'minute', 'holiday', 'station', 'station_length', 'total_flow', 'avg_occupancy', 'avg_speed', 'traffic_condition').orderBy('timestamp', 'station')\n",
    "df2.show(5, truncate=False)"
   ]
  },
  {
   "cell_type": "code",
   "execution_count": 12,
   "id": "0ef6fc4d-76b8-4796-afd5-5394d1e01d3e",
   "metadata": {},
   "outputs": [
    {
     "name": "stdout",
     "output_type": "stream",
     "text": [
      "Total instance count (before dropping null data): 2503872\n",
      "\n",
      "Null value count:\n",
      "  Column date            0\n",
      "  Column dayofweek       0\n",
      "  Column hour            0\n",
      "  Column minute          0\n",
      "  Column holiday         0\n",
      "  Column station         0\n",
      "  Column station_length  919296\n",
      "  Column total_flow      446797\n",
      "  Column avg_occupancy   446797\n",
      "  Column avg_speed       919296\n"
     ]
    }
   ],
   "source": [
    "# Find the number of null values for each column\n",
    "print('Total instance count (before dropping null data):', df2.count())\n",
    "print('\\nNull value count:')\n",
    "null_count = []\n",
    "for column in df2.columns[:-1]:\n",
    "    c = df2.filter(df2[column].isNull()).count()\n",
    "    print(f'  Column {column:15} {c}')\n",
    "    null_count.append(c)"
   ]
  },
  {
   "cell_type": "code",
   "execution_count": 13,
   "id": "2e5da0ba-02a6-42d1-a797-74c12803ba22",
   "metadata": {},
   "outputs": [
    {
     "name": "stdout",
     "output_type": "stream",
     "text": [
      "+----------+---------+----+------+-------+-------+--------------+----------+-------------+---------+-----------------+\n",
      "|      date|dayofweek|hour|minute|holiday|station|station_length|total_flow|avg_occupancy|avg_speed|traffic_condition|\n",
      "+----------+---------+----+------+-------+-------+--------------+----------+-------------+---------+-----------------+\n",
      "|2023-02-13|        2|   0|     0|      N| 401909|          null|      null|         null|     null|               -1|\n",
      "|2023-02-13|        2|   0|     0|      N| 402867|          null|         2|       0.0026|     null|               -1|\n",
      "|2023-02-13|        2|   0|     0|      N| 402868|          null|         8|       0.0072|     null|               -1|\n",
      "|2023-02-13|        2|   0|     0|      N| 402873|          null|      null|         null|     null|               -1|\n",
      "|2023-02-13|        2|   0|     0|      N| 402874|          null|        11|       0.0025|     null|               -1|\n",
      "|2023-02-13|        2|   0|     0|      N| 402875|          null|      null|         null|     null|               -1|\n",
      "|2023-02-13|        2|   0|     0|      N| 402876|          null|      null|         null|     null|               -1|\n",
      "|2023-02-13|        2|   0|     0|      N| 402877|          null|      null|         null|     null|               -1|\n",
      "|2023-02-13|        2|   0|     0|      N| 402880|          null|        13|       0.0071|     null|               -1|\n",
      "|2023-02-13|        2|   0|     0|      N| 402882|          null|         7|       0.0082|     null|               -1|\n",
      "+----------+---------+----+------+-------+-------+--------------+----------+-------------+---------+-----------------+\n",
      "only showing top 10 rows\n",
      "\n"
     ]
    }
   ],
   "source": [
    "# Sample screenshot\n",
    "df2.filter(df2['avg_speed'].isNull()).show(10)"
   ]
  },
  {
   "cell_type": "code",
   "execution_count": 14,
   "id": "35682161-1f69-4e5f-9a96-e25dea851cf3",
   "metadata": {},
   "outputs": [
    {
     "data": {
      "image/png": "[encoded data removed]",
      "text/plain": [
       "<Figure size 1152x576 with 1 Axes>"
      ]
     },
     "metadata": {
      "needs_background": "light"
     },
     "output_type": "display_data"
    }
   ],
   "source": [
    "plt.figure(figsize =(16, 8))\n",
    "plt.bar(['date', 'dayofweek', 'hour', 'minute', 'holiday', 'station', 'station_length', 'total_flow', 'avg_occupancy', 'avg_speed'], null_count, color='goldenrod', width=0.5)\n",
    "plt.ylabel('Null value count')\n",
    "plt.xlabel('Attribute')\n",
    "plt.title('Attribute Null Value Count (Raw)', fontweight =\"bold\")\n",
    "plt.show()"
   ]
  },
  {
   "cell_type": "code",
   "execution_count": 15,
   "id": "3789515a-35ce-46fe-a38a-791e7ad99291",
   "metadata": {},
   "outputs": [
    {
     "name": "stdout",
     "output_type": "stream",
     "text": [
      "New instance count (after dropping null data): 1584576\n",
      "\n",
      "Null value count:\n",
      "  Column date            0\n",
      "  Column dayofweek       0\n",
      "  Column hour            0\n",
      "  Column minute          0\n",
      "  Column holiday         0\n",
      "  Column station         0\n",
      "  Column station_length  0\n",
      "  Column total_flow      0\n",
      "  Column avg_occupancy   0\n",
      "  Column avg_speed       0\n"
     ]
    }
   ],
   "source": [
    "# Drop rows with null avg_speed\n",
    "df2 = df2.na.drop(subset=['avg_speed']).cache()\n",
    "\n",
    "print('New instance count (after dropping null data):', df2.count())\n",
    "print('\\nNull value count:')\n",
    "for column in df2.columns[:-1]:\n",
    "    print(f'  Column {column:15} {df2.filter(df2[column].isNull()).count()}')"
   ]
  },
  {
   "cell_type": "markdown",
   "id": "c7179d2b-fbfb-48c7-9acc-b401081cbee0",
   "metadata": {},
   "source": [
    "#### 2-2. Noisy data"
   ]
  },
  {
   "cell_type": "code",
   "execution_count": 16,
   "id": "6bd258e2-6ea1-456c-a338-27488fec5b55",
   "metadata": {},
   "outputs": [
    {
     "name": "stdout",
     "output_type": "stream",
     "text": [
      "Total instance count (before regularizing noisy data): 1584576\n",
      "\n",
      "original min(avg_speed) = 3.0\n",
      "original avg(avg_speed) = 64.33039942546145\n",
      "original max(avg_speed) = 81.2\n"
     ]
    }
   ],
   "source": [
    "# Number of instances before regularizing outliers\n",
    "print('Total instance count (before regularizing noisy data):', df2.count())\n",
    "print()\n",
    "print('original min(avg_speed) =', df2.agg({'avg_speed': 'min'}).collect()[0][0])\n",
    "print('original avg(avg_speed) =', df2.agg({'avg_speed': 'avg'}).collect()[0][0])\n",
    "print('original max(avg_speed) =', df2.agg({'avg_speed': 'max'}).collect()[0][0])"
   ]
  },
  {
   "cell_type": "code",
   "execution_count": 17,
   "id": "fc99bbfd-bde0-4684-b57f-c180b7f11ec4",
   "metadata": {},
   "outputs": [],
   "source": [
    "# Compute IQR\n",
    "from pyspark.sql.functions import percentile_approx\n",
    "\n",
    "q = df2.select(percentile_approx('avg_speed', [0.25, 0.75])).collect()[0][0]\n",
    "iqr = q[1] - q[0]\n",
    "threshold = q[1] + 1.5*iqr    # Consider upper outliers only"
   ]
  },
  {
   "cell_type": "code",
   "execution_count": 18,
   "id": "20090dfa-b204-4e0d-8d46-a919b32c3e4b",
   "metadata": {},
   "outputs": [],
   "source": [
    "# Replace outliers (avg speed > Q3 + 1.5IQR) with the threshold value\n",
    "y1 = df2.select('avg_speed').collect()\n",
    "df2 = df2.withColumn('avg_speed', when(df2.avg_speed > threshold, threshold).otherwise(df2.avg_speed))\n",
    "y2 = df2.select('avg_speed').collect()"
   ]
  },
  {
   "cell_type": "code",
   "execution_count": 19,
   "id": "6a5286e4-cf54-4e50-a229-759f20122f8c",
   "metadata": {
    "scrolled": true,
    "tags": []
   },
   "outputs": [
    {
     "name": "stdout",
     "output_type": "stream",
     "text": [
      "New instance count (after regularizing noisy data): 1584576\n",
      "\n",
      "new min(avg_speed) = 3.0\n",
      "new avg(avg_speed) = 64.32875355931174\n",
      "new max(avg_speed) = 74.60000000000001\n"
     ]
    }
   ],
   "source": [
    "# Number of instances after regularizing outliers\n",
    "print('New instance count (after regularizing noisy data):', df2.count())\n",
    "print()\n",
    "print('new min(avg_speed) =', df2.agg({'avg_speed': 'min'}).collect()[0][0])\n",
    "print('new avg(avg_speed) =', df2.agg({'avg_speed': 'avg'}).collect()[0][0])\n",
    "print('new max(avg_speed) =', df2.agg({'avg_speed': 'max'}).collect()[0][0])"
   ]
  },
  {
   "cell_type": "code",
   "execution_count": 20,
   "id": "5aecb3bd-9d37-48e1-96c6-97fdd0f097ae",
   "metadata": {},
   "outputs": [
    {
     "data": {
      "image/png": "[encoded data removed]",
      "text/plain": [
       "<Figure size 576x576 with 2 Axes>"
      ]
     },
     "metadata": {
      "needs_background": "light"
     },
     "output_type": "display_data"
    }
   ],
   "source": [
    "y1_d, y2_d = [], []\n",
    "for i in range(len(y1)):\n",
    "    if i % 100 == 0:\n",
    "        y1_d.append(y1[i][0])\n",
    "        y2_d.append(y2[i][0])\n",
    "\n",
    "plt.figure(figsize =(8, 8))\n",
    "plt.subplot(121)\n",
    "plt.boxplot(y1_d, patch_artist=True,\n",
    "            boxprops=dict(facecolor='tab:blue', color='tab:blue'), capprops=dict(color='tab:blue'), whiskerprops=dict(color='tab:blue'), \n",
    "            flierprops=dict(color='tab:blue', markeredgecolor='tab:blue'),medianprops=dict(color='white'))\n",
    "plt.xticks(ticks=[1], labels=['Avg speed (before regularizing noisy data)'])\n",
    "plt.ylabel('Value')\n",
    "plt.ylim(top=83)\n",
    "\n",
    "plt.subplot(122)\n",
    "plt.boxplot(y2_d, patch_artist=True,\n",
    "            boxprops=dict(facecolor='tab:blue', color='tab:blue'), capprops=dict(color='tab:blue'), whiskerprops=dict(color='tab:blue'), \n",
    "            flierprops=dict(color='tab:blue', markeredgecolor='tab:blue'),medianprops=dict(color='white'))\n",
    "plt.xticks(ticks=[1], labels=['Avg speed (after regularizing noisy data)'])\n",
    "plt.ylabel('Value')\n",
    "plt.ylim(top=83)\n",
    "\n",
    "plt.subplots_adjust(wspace=0.4)\n",
    "plt.show()"
   ]
  },
  {
   "cell_type": "markdown",
   "id": "b5788805-ac2a-46d1-b6bd-a7ee6bddbcc4",
   "metadata": {},
   "source": [
    "#### 2-3. Inconsistent data"
   ]
  },
  {
   "cell_type": "code",
   "execution_count": 21,
   "id": "7adf6938-8d2f-4b6b-a5ea-63655bb22bd3",
   "metadata": {},
   "outputs": [
    {
     "data": {
      "text/html": [
       "<div>\n",
       "<style scoped>\n",
       "    .dataframe tbody tr th:only-of-type {\n",
       "        vertical-align: middle;\n",
       "    }\n",
       "\n",
       "    .dataframe tbody tr th {\n",
       "        vertical-align: top;\n",
       "    }\n",
       "\n",
       "    .dataframe thead th {\n",
       "        text-align: right;\n",
       "    }\n",
       "</style>\n",
       "<table border=\"1\" class=\"dataframe\">\n",
       "  <thead>\n",
       "    <tr style=\"text-align: right;\">\n",
       "      <th></th>\n",
       "      <th>Unnamed: 0</th>\n",
       "      <th>weather_date</th>\n",
       "      <th>Time</th>\n",
       "      <th>Temperature(°F)</th>\n",
       "      <th>Dew Point(°F)</th>\n",
       "      <th>Humidity(%)</th>\n",
       "      <th>Wind Speed(mph)</th>\n",
       "      <th>Wind Gust(mph)</th>\n",
       "      <th>Pressure(in)</th>\n",
       "      <th>Precip.(in)</th>\n",
       "      <th>weather_condition</th>\n",
       "      <th>weather_hour</th>\n",
       "    </tr>\n",
       "  </thead>\n",
       "  <tbody>\n",
       "    <tr>\n",
       "      <th>0</th>\n",
       "      <td>0</td>\n",
       "      <td>2023-02-13</td>\n",
       "      <td>01:53:00</td>\n",
       "      <td>45</td>\n",
       "      <td>38</td>\n",
       "      <td>76</td>\n",
       "      <td>0</td>\n",
       "      <td>0</td>\n",
       "      <td>29.83</td>\n",
       "      <td>0.0</td>\n",
       "      <td>0</td>\n",
       "      <td>1</td>\n",
       "    </tr>\n",
       "    <tr>\n",
       "      <th>1</th>\n",
       "      <td>1</td>\n",
       "      <td>2023-02-13</td>\n",
       "      <td>02:53:00</td>\n",
       "      <td>44</td>\n",
       "      <td>37</td>\n",
       "      <td>76</td>\n",
       "      <td>0</td>\n",
       "      <td>0</td>\n",
       "      <td>29.82</td>\n",
       "      <td>0.0</td>\n",
       "      <td>0</td>\n",
       "      <td>2</td>\n",
       "    </tr>\n",
       "    <tr>\n",
       "      <th>4</th>\n",
       "      <td>4</td>\n",
       "      <td>2023-02-13</td>\n",
       "      <td>03:53:00</td>\n",
       "      <td>43</td>\n",
       "      <td>37</td>\n",
       "      <td>80</td>\n",
       "      <td>5</td>\n",
       "      <td>0</td>\n",
       "      <td>29.83</td>\n",
       "      <td>0.0</td>\n",
       "      <td>6</td>\n",
       "      <td>3</td>\n",
       "    </tr>\n",
       "    <tr>\n",
       "      <th>7</th>\n",
       "      <td>7</td>\n",
       "      <td>2023-02-13</td>\n",
       "      <td>04:53:00</td>\n",
       "      <td>44</td>\n",
       "      <td>38</td>\n",
       "      <td>79</td>\n",
       "      <td>3</td>\n",
       "      <td>0</td>\n",
       "      <td>29.82</td>\n",
       "      <td>0.0</td>\n",
       "      <td>6</td>\n",
       "      <td>4</td>\n",
       "    </tr>\n",
       "    <tr>\n",
       "      <th>9</th>\n",
       "      <td>9</td>\n",
       "      <td>2023-02-13</td>\n",
       "      <td>05:59:00</td>\n",
       "      <td>44</td>\n",
       "      <td>41</td>\n",
       "      <td>89</td>\n",
       "      <td>0</td>\n",
       "      <td>0</td>\n",
       "      <td>29.82</td>\n",
       "      <td>0.0</td>\n",
       "      <td>12</td>\n",
       "      <td>5</td>\n",
       "    </tr>\n",
       "  </tbody>\n",
       "</table>\n",
       "</div>"
      ],
      "text/plain": [
       "   Unnamed: 0 weather_date      Time  Temperature(°F)  Dew Point(°F)  \\\n",
       "0           0   2023-02-13  01:53:00               45             38   \n",
       "1           1   2023-02-13  02:53:00               44             37   \n",
       "4           4   2023-02-13  03:53:00               43             37   \n",
       "7           7   2023-02-13  04:53:00               44             38   \n",
       "9           9   2023-02-13  05:59:00               44             41   \n",
       "\n",
       "   Humidity(%)  Wind Speed(mph)  Wind Gust(mph)  Pressure(in)  Precip.(in)  \\\n",
       "0           76                0               0         29.83          0.0   \n",
       "1           76                0               0         29.82          0.0   \n",
       "4           80                5               0         29.83          0.0   \n",
       "7           79                3               0         29.82          0.0   \n",
       "9           89                0               0         29.82          0.0   \n",
       "\n",
       "   weather_condition  weather_hour  \n",
       "0                  0             1  \n",
       "1                  0             2  \n",
       "4                  6             3  \n",
       "7                  6             4  \n",
       "9                 12             5  "
      ]
     },
     "execution_count": 21,
     "metadata": {},
     "output_type": "execute_result"
    }
   ],
   "source": [
    "import pandas as pd\n",
    "\n",
    "# Load and format weather data\n",
    "w = pd.read_csv('weather.csv')\n",
    "w['Time'] = pd.to_datetime(w['Time']).dt.strftime('%H:%M:%S')\n",
    "w['Date'] = '2023/' + w['Date'].astype(str)\n",
    "w['Date'] = pd.to_datetime(w.Date)\n",
    "w.rename(columns = {'Condition':'weather_condition', 'Date':'weather_date'}, inplace = True)\n",
    "\n",
    "# Extract hour and drop duplicates\n",
    "w['weather_hour'] = pd.to_datetime(w['Time']).dt.strftime('%H')\n",
    "w['weather_hour'] = w['weather_hour'].apply(lambda x: int(x))\n",
    "w = w.drop_duplicates(subset=['weather_date', 'weather_hour'], keep='last')\n",
    "w.head()"
   ]
  },
  {
   "cell_type": "code",
   "execution_count": null,
   "id": "b58db727-eecb-47f3-8af1-6d6d4b24a55c",
   "metadata": {},
   "outputs": [],
   "source": [
    "'''\n",
    "# Weather condition dictionary\n",
    "\n",
    "cond_dict = {\n",
    "    'Cloudy': 2,\n",
    "    'Cloudy / Windy': 3,\n",
    "    'Fair': 0,\n",
    "    'Fair / Windy': 1,\n",
    "    'Fog': 12,\n",
    "    'Heavy Rain': 11,\n",
    "    'Light Rain': 8,\n",
    "    'Light Rain / Windy': 9,\n",
    "    'Mostly Cloudy': 6,\n",
    "    'Mostly Cloudy / Windy': 7,\n",
    "    'Partly Cloudy': 4,\n",
    "    'Partly Cloudy / Windy': 5,\n",
    "    'Rain': 10,\n",
    "    'T-Storm / Windy': 13,\n",
    "    'Thunder in the Vicinity': 14\n",
    "}\n",
    "\n",
    "'''"
   ]
  },
  {
   "cell_type": "code",
   "execution_count": 22,
   "id": "fd85e369-1a02-495a-9321-899f38bcc164",
   "metadata": {},
   "outputs": [
    {
     "name": "stdout",
     "output_type": "stream",
     "text": [
      "+-----------------+------------+------------+\n",
      "|weather_condition|weather_date|weather_hour|\n",
      "+-----------------+------------+------------+\n",
      "|                0|  2023-02-13|           1|\n",
      "|                0|  2023-02-13|           2|\n",
      "|                6|  2023-02-13|           3|\n",
      "|                6|  2023-02-13|           4|\n",
      "|               12|  2023-02-13|           5|\n",
      "|               12|  2023-02-13|           6|\n",
      "|                4|  2023-02-13|           7|\n",
      "|                0|  2023-02-13|           8|\n",
      "|                0|  2023-02-13|           9|\n",
      "|                4|  2023-02-13|          10|\n",
      "+-----------------+------------+------------+\n",
      "only showing top 10 rows\n",
      "\n"
     ]
    }
   ],
   "source": [
    "# Convert into a Pyspark dataframe\n",
    "dfw = spark.createDataFrame(w)\n",
    "dfw = dfw.withColumn('weather_date', to_date(col('weather_date')))\n",
    "dfw = dfw.withColumn('weather_condition', dfw['weather_condition'].cast('integer'))\n",
    "dfw = dfw.select('weather_condition', 'weather_date', 'weather_hour')\n",
    "dfw.show(10)"
   ]
  },
  {
   "cell_type": "code",
   "execution_count": 23,
   "id": "dcb09556-b51b-4191-bc68-edf859dd1d9f",
   "metadata": {},
   "outputs": [
    {
     "name": "stdout",
     "output_type": "stream",
     "text": [
      "+----------+---------+----+------+-------+-------+--------------+----------+-------------+---------+-----------------+-----------------+\n",
      "|      date|dayofweek|hour|minute|holiday|station|station_length|total_flow|avg_occupancy|avg_speed|traffic_condition|weather_condition|\n",
      "+----------+---------+----+------+-------+-------+--------------+----------+-------------+---------+-----------------+-----------------+\n",
      "|2023-02-13|        2|   0|     0|      N| 400001|         0.265|        51|       0.0083|     71.0|                0|                0|\n",
      "|2023-02-13|        2|   0|     0|      N| 400007|         0.365|       109|       0.0225|     68.6|                0|                0|\n",
      "|2023-02-13|        2|   0|     0|      N| 400010|          0.47|        43|       0.0071|     65.2|                0|                0|\n",
      "|2023-02-13|        2|   0|     0|      N| 400014|          0.29|        57|       0.0101|     68.6|                0|                0|\n",
      "|2023-02-13|        2|   0|     0|      N| 400039|         0.195|        57|       0.0099|     65.6|                0|                0|\n",
      "|2023-02-13|        2|   0|     0|      N| 400107|         0.235|        73|       0.0169|     67.8|                0|                0|\n",
      "|2023-02-13|        2|   0|     0|      N| 400119|          0.27|        74|       0.0171|     65.2|                0|                0|\n",
      "|2023-02-13|        2|   0|     0|      N| 400125|          0.09|       188|       0.0255|     66.8|                0|                0|\n",
      "|2023-02-13|        2|   0|     0|      N| 400168|          0.34|        41|       0.0075|     67.6|                0|                0|\n",
      "|2023-02-13|        2|   0|     0|      N| 400181|         0.385|        80|       0.0172|     66.6|                0|                0|\n",
      "+----------+---------+----+------+-------+-------+--------------+----------+-------------+---------+-----------------+-----------------+\n",
      "only showing top 10 rows\n",
      "\n"
     ]
    }
   ],
   "source": [
    "# Join weather and traffic data\n",
    "df2 = df2.join(dfw, (df2.date == dfw.weather_date) & (df2.hour == dfw.weather_hour), 'leftouter')\n",
    "df2 = df2.select(df2.columns[:-2])\n",
    "df2.show(10)"
   ]
  },
  {
   "cell_type": "code",
   "execution_count": 24,
   "id": "f5236224-c5f7-4e05-b47c-5e20746344de",
   "metadata": {},
   "outputs": [
    {
     "name": "stdout",
     "output_type": "stream",
     "text": [
      "Total instance count: 1584576\n",
      "\n",
      "Null value count:\n",
      "  Column date               0\n",
      "  Column dayofweek          0\n",
      "  Column hour               0\n",
      "  Column minute             0\n",
      "  Column holiday            0\n",
      "  Column station            0\n",
      "  Column station_length     0\n",
      "  Column total_flow         0\n",
      "  Column avg_occupancy      0\n",
      "  Column avg_speed          0\n",
      "  Column weather_condition  0\n"
     ]
    }
   ],
   "source": [
    "# Check if there are null values in each column\n",
    "print('Total instance count:', df2.count())\n",
    "print('\\nNull value count:')\n",
    "for column in df2.columns[:-2]+['weather_condition']:\n",
    "    print(f'  Column {column:18} {df2.filter(df2[column].isNull()).count()}')"
   ]
  },
  {
   "cell_type": "markdown",
   "id": "80112c22-083b-486c-95fe-1685852a649b",
   "metadata": {},
   "source": [
    "#### 2-4. Average speed 30 minutes ago"
   ]
  },
  {
   "cell_type": "code",
   "execution_count": 25,
   "id": "2d48aade-b731-468f-9b29-58841c6d28f9",
   "metadata": {},
   "outputs": [],
   "source": [
    "# Compute average speed 30 minutes ago\n",
    "from pyspark.sql.functions import lag\n",
    "from pyspark.sql.window import Window\n",
    "\n",
    "df2 = df2.orderBy('station', 'date', 'hour', 'minute')\n",
    "w = Window().partitionBy().orderBy('station', 'date', 'hour', 'minute')\n",
    "df2 = df2.withColumn('avg_speed_30m_ago', lag('avg_speed', offset=6, default=65).over(w))\n",
    "df2 = df2.withColumn('avg_speed_30m_ago', when( (df2.date=='2023-02-13') & (df2.hour==0) & (df2.minute<30), 65).otherwise(df2.avg_speed_30m_ago))"
   ]
  },
  {
   "cell_type": "code",
   "execution_count": 26,
   "id": "a23aaa15-05ca-4b14-8032-86942f5a3693",
   "metadata": {},
   "outputs": [
    {
     "name": "stdout",
     "output_type": "stream",
     "text": [
      "+---------+----+------+-------+-------+--------------+-------------+-----------------+-----------------+-----------------+\n",
      "|dayofweek|hour|minute|holiday|station|station_length|avg_occupancy|weather_condition|traffic_condition|avg_speed_30m_ago|\n",
      "+---------+----+------+-------+-------+--------------+-------------+-----------------+-----------------+-----------------+\n",
      "|2        |0   |0     |N      |400001 |0.265         |0.0083       |0                |0                |65.0             |\n",
      "|2        |0   |5     |N      |400001 |0.265         |0.0059       |0                |0                |65.0             |\n",
      "|2        |0   |10    |N      |400001 |0.265         |0.0071       |0                |0                |65.0             |\n",
      "|2        |0   |15    |N      |400001 |0.265         |0.0094       |0                |0                |65.0             |\n",
      "|2        |0   |20    |N      |400001 |0.265         |0.0054       |0                |0                |65.0             |\n",
      "|2        |0   |25    |N      |400001 |0.265         |0.0065       |0                |0                |65.0             |\n",
      "|2        |0   |30    |N      |400001 |0.265         |0.0052       |0                |0                |71.0             |\n",
      "|2        |0   |35    |N      |400001 |0.265         |0.0054       |0                |0                |70.2             |\n",
      "|2        |0   |40    |N      |400001 |0.265         |0.0057       |0                |0                |70.9             |\n",
      "|2        |0   |45    |N      |400001 |0.265         |0.0048       |0                |0                |71.7             |\n",
      "|2        |0   |50    |N      |400001 |0.265         |0.006        |0                |0                |71.1             |\n",
      "|2        |0   |55    |N      |400001 |0.265         |0.0025       |0                |0                |70.4             |\n",
      "|2        |1   |0     |N      |400001 |0.265         |0.0047       |0                |0                |70.7             |\n",
      "|2        |1   |5     |N      |400001 |0.265         |0.0044       |0                |0                |71.2             |\n",
      "|2        |1   |10    |N      |400001 |0.265         |0.0033       |0                |0                |71.6             |\n",
      "|2        |1   |15    |N      |400001 |0.265         |0.0038       |0                |0                |71.6             |\n",
      "|2        |1   |20    |N      |400001 |0.265         |0.0036       |0                |0                |71.9             |\n",
      "|2        |1   |25    |N      |400001 |0.265         |0.0043       |0                |0                |70.6             |\n",
      "|2        |1   |30    |N      |400001 |0.265         |0.0047       |0                |0                |70.9             |\n",
      "|2        |1   |35    |N      |400001 |0.265         |0.0028       |0                |0                |72.0             |\n",
      "+---------+----+------+-------+-------+--------------+-------------+-----------------+-----------------+-----------------+\n",
      "only showing top 20 rows\n",
      "\n"
     ]
    }
   ],
   "source": [
    "# Feature selection\n",
    "df2 = df2.select('dayofweek', 'hour', 'minute', 'holiday', 'station', 'station_length', 'avg_occupancy', 'weather_condition', 'traffic_condition', 'avg_speed_30m_ago')\n",
    "df2.show(truncate=False)"
   ]
  },
  {
   "cell_type": "markdown",
   "id": "fcd7987e-b8e9-4f5c-84e2-e0223d974812",
   "metadata": {},
   "source": [
    "###\n",
    "### 3. Data Transformation"
   ]
  },
  {
   "cell_type": "markdown",
   "id": "1c7002e3-888c-4e9c-81b0-a8e04fab1d37",
   "metadata": {},
   "source": [
    "#### 3-1. Data standardization"
   ]
  },
  {
   "cell_type": "code",
   "execution_count": 27,
   "id": "fd796a45-0438-45b0-90b7-8d4eb8eff4f7",
   "metadata": {},
   "outputs": [],
   "source": [
    "# Select columns to standardize and merge into a single array\n",
    "from pyspark.ml.feature import VectorAssembler\n",
    "\n",
    "va = VectorAssembler(inputCols=['station_length', 'avg_occupancy', 'avg_speed_30m_ago'], outputCol='numerical_col')\n",
    "df3 = va.transform(df2)"
   ]
  },
  {
   "cell_type": "code",
   "execution_count": 28,
   "id": "678ff6fb-179b-452c-bf7c-77ca3b66b0a6",
   "metadata": {
    "scrolled": true,
    "tags": []
   },
   "outputs": [
    {
     "name": "stdout",
     "output_type": "stream",
     "text": [
      "+---------+----+------+-------+-------+-----------------+-------------------+--------------------------------------------------+\n",
      "|dayofweek|hour|minute|holiday|station|traffic_condition|      numerical_col|                              scaled_numerical_col|\n",
      "+---------+----+------+-------+-------+-----------------+-------------------+--------------------------------------------------+\n",
      "|        2|   0|     0|      N| 400001|                0|[0.265,0.0083,65.0]|[-0.7621441621336138,-0.9877527594859337,0.1054...|\n",
      "|        2|   0|     5|      N| 400001|                0|[0.265,0.0059,65.0]|[-0.7621441621336138,-1.0464592605686303,0.1054...|\n",
      "|        2|   0|    10|      N| 400001|                0|[0.265,0.0071,65.0]|[-0.7621441621336138,-1.017106010027282,0.10542...|\n",
      "|        2|   0|    15|      N| 400001|                0|[0.265,0.0094,65.0]|[-0.7621441621336138,-0.9608456131563644,0.1054...|\n",
      "|        2|   0|    20|      N| 400001|                0|[0.265,0.0054,65.0]|[-0.7621441621336138,-1.0586897816275256,0.1054...|\n",
      "|        2|   0|    25|      N| 400001|                0|[0.265,0.0065,65.0]|[-0.7621441621336138,-1.0317826352979562,0.1054...|\n",
      "|        2|   0|    30|      N| 400001|                0|[0.265,0.0052,71.0]|[-0.7621441621336138,-1.0635819900510837,1.0442...|\n",
      "|        2|   0|    35|      N| 400001|                0|[0.265,0.0054,70.2]|[-0.7621441621336138,-1.0586897816275256,0.9190...|\n",
      "|        2|   0|    40|      N| 400001|                0|[0.265,0.0057,70.9]|[-0.7621441621336138,-1.0513514689921886,1.0285...|\n",
      "|        2|   0|    45|      N| 400001|                0|[0.265,0.0048,71.7]|[-0.7621441621336138,-1.0733664068981996,1.1537...|\n",
      "+---------+----+------+-------+-------+-----------------+-------------------+--------------------------------------------------+\n",
      "only showing top 10 rows\n",
      "\n"
     ]
    }
   ],
   "source": [
    "# Standardize numerical columns\n",
    "from pyspark.ml.feature import StandardScaler\n",
    "\n",
    "scaler = StandardScaler(inputCol='numerical_col', outputCol='scaled_numerical_col', withMean=True, withStd=True)\n",
    "df3 = scaler.fit(df3).transform(df3)\n",
    "df3.select('dayofweek', 'hour', 'minute', 'holiday', 'station', 'traffic_condition', 'numerical_col', 'scaled_numerical_col').show(10, truncate=50)"
   ]
  },
  {
   "cell_type": "code",
   "execution_count": 29,
   "id": "e759fefe-ed41-4fb0-a90c-6d82e71ff083",
   "metadata": {},
   "outputs": [
    {
     "data": {
      "image/png": "[encoded data removed]",
      "text/plain": [
       "<Figure size 576x576 with 2 Axes>"
      ]
     },
     "metadata": {
      "needs_background": "light"
     },
     "output_type": "display_data"
    }
   ],
   "source": [
    "# Numecial attribute summary\n",
    "snc = df3.select('scaled_numerical_col').collect()\n",
    "stl = [snc[i][0][0] for i in range(len(snc))]\n",
    "avo = [snc[i][0][1] for i in range(len(snc))]\n",
    "\n",
    "stl_d, avo_d = [], []\n",
    "for i in range(len(snc)):\n",
    "    if i % 1000 == 0:\n",
    "        stl_d.append(stl[i])\n",
    "        avo_d.append(avo[i])\n",
    "\n",
    "plt.figure(figsize =(8, 8))\n",
    "plt.subplot(121)\n",
    "plt.boxplot([stl_d], patch_artist=True,\n",
    "            boxprops=dict(facecolor='seagreen', color='seagreen'), capprops=dict(color='seagreen'), whiskerprops=dict(color='seagreen'), \n",
    "            flierprops=dict(color='seagreen', markeredgecolor='seagreen'),medianprops=dict(color='white'))\n",
    "plt.xticks(ticks=[1], labels=['Station length (mi)'])\n",
    "plt.ylabel('Value')\n",
    "\n",
    "plt.subplot(122)\n",
    "plt.boxplot([avo_d], patch_artist=True,\n",
    "            boxprops=dict(facecolor='darksalmon', color='darksalmon'), capprops=dict(color='darksalmon'), whiskerprops=dict(color='darksalmon'), \n",
    "            flierprops=dict(color='darksalmon', markeredgecolor='darksalmon'),medianprops=dict(color='white'))\n",
    "plt.xticks(ticks=[1], labels=['Avg occupancy (%)'])\n",
    "plt.ylabel('Value')\n",
    "\n",
    "plt.subplots_adjust(wspace=0.4)\n",
    "plt.show()"
   ]
  },
  {
   "cell_type": "markdown",
   "id": "b4f6358b-c0e3-40ee-859e-fe07bfa3fdf7",
   "metadata": {
    "tags": []
   },
   "source": [
    "#### 3-2. Create pipeline to format feature columns"
   ]
  },
  {
   "cell_type": "code",
   "execution_count": 30,
   "id": "3dd27682-9813-4d74-84b1-f53d274b03fb",
   "metadata": {},
   "outputs": [],
   "source": [
    "from pyspark.ml.feature import StringIndexer, OneHotEncoder, VectorAssembler\n",
    "\n",
    "# Convert string columns to indices\n",
    "si = StringIndexer(inputCols=['holiday', 'station'], outputCols=['holiday_index', 'station_index'])\n",
    "\n",
    "# Convert string indices to vectors\n",
    "ohe = OneHotEncoder(inputCols=['dayofweek', 'hour', 'minute', 'holiday_index', 'station_index', 'weather_condition'], outputCols=['dayofweek_vec', 'hour_vec', 'minute_vec', 'holiday_vec', 'station_vec', 'weather_condition_vec'])\n",
    "\n",
    "# Select features and merge vectors into a single array\n",
    "va = VectorAssembler(inputCols=['dayofweek_vec', 'hour_vec', 'minute_vec', 'holiday_vec', 'station_vec', 'weather_condition_vec', 'scaled_numerical_col'], outputCol='features', handleInvalid='keep')"
   ]
  },
  {
   "cell_type": "code",
   "execution_count": 31,
   "id": "40cd77ae-0039-4e61-913f-1d8bea0d753b",
   "metadata": {},
   "outputs": [
    {
     "name": "stdout",
     "output_type": "stream",
     "text": [
      "+--------------------------------------------------------------------------------------------------------------------------+-----------------+\n",
      "|                                                                                                                  features|traffic_condition|\n",
      "+--------------------------------------------------------------------------------------------------------------------------+-----------------+\n",
      "|(493,[2,7,30,85,86,478,490,491,492],[1.0,1.0,1.0,1.0,1.0,1.0,-0.7621441621336138,-0.9877527594859337,0.10542949991422551])|                0|\n",
      "|(493,[2,7,35,85,86,478,490,491,492],[1.0,1.0,1.0,1.0,1.0,1.0,-0.7621441621336138,-1.0464592605686303,0.10542949991422551])|                0|\n",
      "| (493,[2,7,40,85,86,478,490,491,492],[1.0,1.0,1.0,1.0,1.0,1.0,-0.7621441621336138,-1.017106010027282,0.10542949991422551])|                0|\n",
      "|(493,[2,7,45,85,86,478,490,491,492],[1.0,1.0,1.0,1.0,1.0,1.0,-0.7621441621336138,-0.9608456131563644,0.10542949991422551])|                0|\n",
      "|(493,[2,7,50,85,86,478,490,491,492],[1.0,1.0,1.0,1.0,1.0,1.0,-0.7621441621336138,-1.0586897816275256,0.10542949991422551])|                0|\n",
      "|(493,[2,7,55,85,86,478,490,491,492],[1.0,1.0,1.0,1.0,1.0,1.0,-0.7621441621336138,-1.0317826352979562,0.10542949991422551])|                0|\n",
      "| (493,[2,7,60,85,86,478,490,491,492],[1.0,1.0,1.0,1.0,1.0,1.0,-0.7621441621336138,-1.0635819900510837,1.0442145486938947])|                0|\n",
      "|  (493,[2,7,65,85,86,478,490,491,492],[1.0,1.0,1.0,1.0,1.0,1.0,-0.7621441621336138,-1.0586897816275256,0.919043208856606])|                0|\n",
      "| (493,[2,7,70,85,86,478,490,491,492],[1.0,1.0,1.0,1.0,1.0,1.0,-0.7621441621336138,-1.0513514689921886,1.0285681312142345])|                0|\n",
      "| (493,[2,7,75,85,86,478,490,491,492],[1.0,1.0,1.0,1.0,1.0,1.0,-0.7621441621336138,-1.0733664068981996,1.1537394710515232])|                0|\n",
      "+--------------------------------------------------------------------------------------------------------------------------+-----------------+\n",
      "only showing top 10 rows\n",
      "\n"
     ]
    }
   ],
   "source": [
    "# Create pipeline to format feature columns\n",
    "from pyspark.ml import Pipeline\n",
    "\n",
    "pipeline = Pipeline(stages=[si, ohe, va])\n",
    "df3 = pipeline.fit(df3).transform(df3)\n",
    "df3 = df3.select('features', 'traffic_condition')\n",
    "df3.show(10, truncate=130)"
   ]
  },
  {
   "cell_type": "markdown",
   "id": "e016f17d-9d2f-43ff-8e21-070eae6a7c68",
   "metadata": {},
   "source": [
    "#### 3-3. Data undersampling"
   ]
  },
  {
   "cell_type": "code",
   "execution_count": 32,
   "id": "d786001a-356b-45f0-8262-0f3aae540079",
   "metadata": {},
   "outputs": [
    {
     "name": "stdout",
     "output_type": "stream",
     "text": [
      "Before undersampling: Counter({Row(traffic_condition=0): 1416535, Row(traffic_condition=1): 140295, Row(traffic_condition=2): 27746})\n"
     ]
    }
   ],
   "source": [
    "# Class count before undersampling\n",
    "from collections import Counter\n",
    "\n",
    "counter = Counter(df3.select('traffic_condition').collect())\n",
    "print('Before undersampling:', counter)"
   ]
  },
  {
   "cell_type": "code",
   "execution_count": 33,
   "id": "393b1771-9760-4aaf-8b32-52e19dcf2af5",
   "metadata": {},
   "outputs": [],
   "source": [
    "# Random undersampling\n",
    "class0_df = df3.filter(col('traffic_condition') == 0)\n",
    "class1_df = df3.filter(col('traffic_condition') == 1)\n",
    "class2_df = df3.filter(col('traffic_condition') == 2)\n",
    "\n",
    "ratio_2_to_0 = round(class2_df.count()/class0_df.count(), 2)\n",
    "ratio_2_to_1 = round(class2_df.count()/class1_df.count(), 2)\n",
    "\n",
    "sampled_class0_df = class0_df.sample(withReplacement=False, fraction=ratio_2_to_0, seed=11)\n",
    "sampled_class1_df = class1_df.sample(withReplacement=False, fraction=ratio_2_to_1, seed=11)\n",
    "df3 = sampled_class0_df.unionAll(sampled_class1_df).unionAll(class2_df)"
   ]
  },
  {
   "cell_type": "code",
   "execution_count": 34,
   "id": "5d59b51d-4aaf-4957-8405-2562901748cb",
   "metadata": {},
   "outputs": [
    {
     "name": "stdout",
     "output_type": "stream",
     "text": [
      "After undersampling: Counter({Row(traffic_condition=0): 28399, Row(traffic_condition=1): 27889, Row(traffic_condition=2): 27746})\n"
     ]
    }
   ],
   "source": [
    "# Class count after undersampling\n",
    "counter = Counter(df3.select('traffic_condition').collect())\n",
    "print('After undersampling:', counter)"
   ]
  },
  {
   "cell_type": "markdown",
   "id": "52be38ae-2dec-41b2-a142-1f77fdf3b196",
   "metadata": {},
   "source": [
    "#### 3-4. Data reduction using PCA"
   ]
  },
  {
   "cell_type": "code",
   "execution_count": 35,
   "id": "344028ee-738f-4cf0-ab4a-45b65882e77c",
   "metadata": {},
   "outputs": [
    {
     "name": "stdout",
     "output_type": "stream",
     "text": [
      "+--------------------+-----------------+--------------------+\n",
      "|            features|traffic_condition|        pca_features|\n",
      "+--------------------+-----------------+--------------------+\n",
      "|(493,[2,12,55,85,...|                0|[-0.5906990621047...|\n",
      "|(493,[2,23,85,86,...|                0|[-1.1102308057505...|\n",
      "|(493,[2,24,65,85,...|                0|[-1.0983668063035...|\n",
      "|(493,[2,25,55,85,...|                0|[-1.0511147787109...|\n",
      "|(493,[3,17,55,85,...|                0|[-0.0031274042634...|\n",
      "|(493,[3,18,40,85,...|                0|[-0.3644483652530...|\n",
      "|(493,[3,21,75,85,...|                0|[-0.8022917608611...|\n",
      "|(493,[3,24,45,85,...|                0|[-0.7714454231794...|\n",
      "|(493,[3,27,70,85,...|                0|[-1.2078685957209...|\n",
      "|(493,[4,13,80,85,...|                0|[0.91540968286047...|\n",
      "+--------------------+-----------------+--------------------+\n",
      "only showing top 10 rows\n",
      "\n"
     ]
    }
   ],
   "source": [
    "# PCA dimensionality reduction\n",
    "from pyspark.ml.feature import PCA\n",
    "\n",
    "pca = PCA(k=30, inputCol='features', outputCol='pca_features')\n",
    "# Explained variance for k=30: sum(pca.fit(df3).explainedVariance) = 92.38%\n",
    "# Eigenvalues: [0.5371, 0.133, 0.0983, 0.0185, 0.0133, 0.012, 0.0092, 0.0086, 0.0073, 0.0067, 0.0058, 0.0045, 0.0045, 0.0044, 0.0044, 0.0044, 0.0044, 0.0044, 0.0043, 0.0043, 0.0043, 0.0043, 0.0042, 0.0039, 0.0036, 0.0033, 0.0032, 0.0029, 0.0024, 0.0024]\n",
    "\n",
    "df3 = pca.fit(df3).transform(df3).cache()\n",
    "df3.show(10)"
   ]
  },
  {
   "cell_type": "code",
   "execution_count": 36,
   "id": "b736a6af-2a19-422e-9603-7e023469fd5b",
   "metadata": {},
   "outputs": [
    {
     "name": "stdout",
     "output_type": "stream",
     "text": [
      "Feature dimension before PCA dimensionality reduction: 493\n",
      "\n",
      "Original feature vectors:\n",
      "-RECORD 0-------------------------------------------------------------------------------------------------------------------------------\n",
      " features | (493,[2,12,55,85,86,490,491,492],[1.0,1.0,1.0,1.0,1.0,-0.7621441621336138,0.6486909581942367,1.2945572283684723])           \n",
      "-RECORD 1-------------------------------------------------------------------------------------------------------------------------------\n",
      " features | (493,[2,23,85,86,478,490,491,492],[1.0,1.0,1.0,1.0,1.0,-0.7621441621336138,-0.19276889065774924,1.231971558449829])         \n",
      "-RECORD 2-------------------------------------------------------------------------------------------------------------------------------\n",
      " features | (493,[2,24,65,85,86,482,490,491,492],[1.0,1.0,1.0,1.0,1.0,1.0,-0.7621441621336138,-0.30284358018780566,1.1537394710515232]) \n",
      "only showing top 3 rows\n",
      "\n",
      "\n",
      "Feature dimension after PCA dimensionality reduction: 30\n",
      "\n",
      "PCA'd feature vectors:\n",
      "-RECORD 0-----------------------------------------------------------------------------------------------------------------------------------------------------------------------------------------------------------------------------------------------------------------------------------------------------------------------------------------------------------------------------------------------------------------------------------------------------------------------------------------------------------------------------------------------------------------------------------------------------------------------------------------\n",
      " pca_features | [-0.5906990621047139,-0.7663958432511366,-1.324649752219827,-0.2680680945306759,0.3339790691930455,-0.37953441173586794,0.020221233471674073,-0.09794281600327825,0.4409058200623424,-0.48581118456079236,-0.681158504565783,-0.104900102753606,-0.09171472794102016,-0.15614703116068487,0.09905023423551959,-0.2667274281102714,-0.031076562129096083,-0.8913711699279735,-0.06600251142148947,-0.07503583506761373,0.006475207889568423,0.0689800861380034,0.11696950525665055,-0.007438857181865915,0.29427795243939686,0.20762761040483074,0.16633429936322922,-0.19063267442096515,0.1474993922886994,0.011829064605113621] \n",
      "-RECORD 1-----------------------------------------------------------------------------------------------------------------------------------------------------------------------------------------------------------------------------------------------------------------------------------------------------------------------------------------------------------------------------------------------------------------------------------------------------------------------------------------------------------------------------------------------------------------------------------------------------------------------------------------\n",
      " pca_features | [-1.110230805750513,-0.6680372401994655,-0.6824413543619302,-0.807005116537084,-0.0657904616485705,-0.5863831138432612,0.04969216559832679,-0.03731153505986455,0.7770409040061186,-0.2577561472212145,-0.6485769396753273,0.15168649768492856,-0.10235975033953702,0.17142869455578438,0.30854982095810785,0.019968144429266768,-0.012537816671944552,-0.08126912620446505,-0.001277523307291555,-0.04807483452529775,-0.0386313825078696,-0.025395946675719795,-0.46882100888856787,0.5458541077179492,-0.11531308611009505,0.34503152640795903,0.19151719864427058,-0.2414482525798441,0.2925642321886068,0.20700809378690446] \n",
      "-RECORD 2-----------------------------------------------------------------------------------------------------------------------------------------------------------------------------------------------------------------------------------------------------------------------------------------------------------------------------------------------------------------------------------------------------------------------------------------------------------------------------------------------------------------------------------------------------------------------------------------------------------------------------------------\n",
      " pca_features | [-1.0983668063035346,-0.6764385686228109,-0.5297941850470406,-0.2060384053281222,0.37317310537859,-0.4430548720898947,0.24226772797871177,-0.2546191633910707,0.14829015272794363,-1.229041230880349,-0.5759910559789899,-0.05512536356057448,-0.08740269696697738,-0.3591784286991175,0.23577622534490927,0.7661397292024854,-0.29087012056166006,0.004295555386114587,0.031369481909686775,-0.04913306506641418,0.06867640482835724,0.039875477658689956,0.8139049289890065,0.3906332124727327,-0.22856926371721728,0.07931482464354571,-0.03599306192017396,-0.010050106346848595,0.2561489388000078,0.11080533343017612]      \n",
      "only showing top 3 rows\n",
      "\n"
     ]
    }
   ],
   "source": [
    "# Sample screenshots\n",
    "print(f\"Feature dimension before PCA dimensionality reduction: {len(df3.select('features').collect()[0][0])}\\n\")\n",
    "print(f\"Original feature vectors:\")\n",
    "df3.select('features').show(3, truncate=False, vertical=True)\n",
    "print()\n",
    "print(f\"Feature dimension after PCA dimensionality reduction: {len(df3.select('pca_features').collect()[0][0])}\\n\")\n",
    "print(f\"PCA'd feature vectors:\")\n",
    "df3.select('pca_features').show(3, truncate=False, vertical=True)"
   ]
  },
  {
   "cell_type": "markdown",
   "id": "d98d2734-61f1-4f30-b75b-307329eea63f",
   "metadata": {},
   "source": [
    "###\n",
    "### 4. Modeling and Evaluation"
   ]
  },
  {
   "cell_type": "code",
   "execution_count": 37,
   "id": "9673520f-497b-4ecf-8641-55ff4141f651",
   "metadata": {},
   "outputs": [
    {
     "name": "stdout",
     "output_type": "stream",
     "text": [
      "+--------------------+-----------------+\n",
      "|        pca_features|traffic_condition|\n",
      "+--------------------+-----------------+\n",
      "|[-1.9584105914873...|                0|\n",
      "|[-1.9174997691366...|                0|\n",
      "|[-1.9116408195327...|                0|\n",
      "|[-1.8491240706420...|                0|\n",
      "|[-1.8199178448303...|                0|\n",
      "|[-1.7983687775158...|                0|\n",
      "|[-1.7923460180143...|                0|\n",
      "|[-1.7729759061657...|                0|\n",
      "|[-1.7584689015467...|                0|\n",
      "|[-1.7563765868654...|                0|\n",
      "+--------------------+-----------------+\n",
      "only showing top 10 rows\n",
      "\n"
     ]
    }
   ],
   "source": [
    "# Train-test split (Data preparation)\n",
    "train, test = df3.select('pca_features', 'traffic_condition').randomSplit([0.9, 0.1], seed=11)\n",
    "train.show(10)"
   ]
  },
  {
   "cell_type": "markdown",
   "id": "93a5ca99-9125-4a44-89c9-28a16cc38e84",
   "metadata": {},
   "source": [
    "#### 4-1. Logistic regression"
   ]
  },
  {
   "cell_type": "code",
   "execution_count": 38,
   "id": "edc648fc-4b81-4daa-9e1d-98d1e118b282",
   "metadata": {},
   "outputs": [],
   "source": [
    "# K-fold cross validation + grid search\n",
    "from pyspark.ml.classification import LogisticRegression\n",
    "from pyspark.ml.evaluation import MulticlassClassificationEvaluator\n",
    "from pyspark.ml.tuning import CrossValidator, ParamGridBuilder\n",
    "\n",
    "model = LogisticRegression(featuresCol='pca_features', labelCol='traffic_condition', predictionCol='prediction')\n",
    "grid = ParamGridBuilder().addGrid(model.maxIter, [100]).addGrid(model.thresholds, [[0.5, 0.5, 0.5]]).build()\n",
    "evaluator = MulticlassClassificationEvaluator(predictionCol='prediction', labelCol='traffic_condition', metricName='accuracy')\n",
    "\n",
    "lr_cv = CrossValidator(estimator=model, estimatorParamMaps=grid, evaluator=evaluator, numFolds=3, seed=11).fit(train)"
   ]
  },
  {
   "cell_type": "code",
   "execution_count": 39,
   "id": "fa9a621c-f9f3-49da-8da5-83bdb5fa73a2",
   "metadata": {},
   "outputs": [
    {
     "name": "stdout",
     "output_type": "stream",
     "text": [
      "Best model accuracy: 0.8723\n",
      "\n",
      "Best model parameters:\n",
      "{Param(parent='LogisticRegression_7ed26e47d137', name='maxIter', doc='max number of iterations (>= 0).'): 100, Param(parent='LogisticRegression_7ed26e47d137', name='thresholds', doc=\"Thresholds in multi-class classification to adjust the probability of predicting each class. Array must have length equal to the number of classes, with values > 0, excepting that at most one value may be 0. The class with largest value p/t is predicted, where p is the original probability of that class and t is the class's threshold.\"): [0.5, 0.5, 0.5]}\n"
     ]
    }
   ],
   "source": [
    "# Best model parameters\n",
    "lr_cv_result = list(zip(lr_cv.avgMetrics, grid))\n",
    "lr_cv_result.sort(key=lambda x: (-x[0], str(x[1])), reverse=False)\n",
    "\n",
    "print(f'Best model accuracy: {lr_cv_result[0][0]:.4f}\\n')\n",
    "print(f'Best model parameters:\\n{lr_cv_result[0][1]}')"
   ]
  },
  {
   "cell_type": "code",
   "execution_count": 40,
   "id": "96a392bd-3363-416d-985f-f2f310762324",
   "metadata": {},
   "outputs": [
    {
     "name": "stdout",
     "output_type": "stream",
     "text": [
      "+--------------------+-----------------+----------+\n",
      "|        pca_features|traffic_condition|prediction|\n",
      "+--------------------+-----------------+----------+\n",
      "|[-1.7284774205009...|                0|       0.0|\n",
      "|[-1.7228361722095...|                0|       0.0|\n",
      "|[-1.7227574850183...|                0|       0.0|\n",
      "|[-1.7149722273987...|                0|       0.0|\n",
      "|[-1.6860075637738...|                0|       0.0|\n",
      "+--------------------+-----------------+----------+\n",
      "only showing top 5 rows\n",
      "\n"
     ]
    }
   ],
   "source": [
    "# Use the best model to make predictions on the test set\n",
    "lr_model = lr_cv.bestModel\n",
    "\n",
    "lr_pred = lr_model.transform(test)\n",
    "lr_pred.select('pca_features', 'traffic_condition', 'prediction').show(5)"
   ]
  },
  {
   "cell_type": "code",
   "execution_count": 42,
   "id": "9567a436-f9ca-4a28-9ee1-d58830050519",
   "metadata": {},
   "outputs": [
    {
     "name": "stdout",
     "output_type": "stream",
     "text": [
      "Confusion matrix\n",
      "[[2528.  299.    5.]\n",
      " [ 300. 2282.  222.]\n",
      " [  16.  231. 2415.]]\n",
      "\n",
      " Accuracy -  0.8707\n",
      "Precision -  Class 0: 0.8889,  Class 1: 0.8115,  Class 2: 0.9141\n",
      "   Recall -  Class 0: 0.8927,  Class 1: 0.8138,  Class 2: 0.9072\n",
      " F1 score -  Class 0: 0.8908,  Class 1: 0.8127,  Class 2: 0.9106\n"
     ]
    }
   ],
   "source": [
    "# Test set results\n",
    "from pyspark.sql.types import FloatType\n",
    "from pyspark.mllib.evaluation import MulticlassMetrics\n",
    "\n",
    "predictionAndLabels = lr_pred.withColumn('traffic_condition', lr_pred['traffic_condition'].cast(FloatType())).orderBy('prediction')\n",
    "predictionAndLabels = predictionAndLabels.select(['prediction', 'traffic_condition']).rdd.map(tuple)\n",
    "metrics = MulticlassMetrics(predictionAndLabels)\n",
    "\n",
    "print('Confusion matrix')\n",
    "print(metrics.confusionMatrix().toArray())  # Column labels are prediction classes\n",
    "print()\n",
    "print(f' Accuracy -  {metrics.accuracy:.4f}')\n",
    "print(f'Precision -  Class 0: {metrics.precision(0.0):.4f},  Class 1: {metrics.precision(1.0):.4f},  Class 2: {metrics.precision(2.0):.4f}')\n",
    "print(f'   Recall -  Class 0: {metrics.recall(0.0):.4f},  Class 1: {metrics.recall(1.0):.4f},  Class 2: {metrics.recall(2.0):.4f}')\n",
    "print(f' F1 score -  Class 0: {metrics.fMeasure(0.0):.4f},  Class 1: {metrics.fMeasure(1.0):.4f},  Class 2: {metrics.fMeasure(2.0):.4f}')"
   ]
  },
  {
   "cell_type": "markdown",
   "id": "b274c78d-6575-4c94-bb6d-e244c17c49ed",
   "metadata": {},
   "source": [
    "#### 4-2. Random forest"
   ]
  },
  {
   "cell_type": "code",
   "execution_count": 93,
   "id": "35e85426-4a18-41e2-8596-3e5e5e6c5ef2",
   "metadata": {
    "tags": []
   },
   "outputs": [],
   "source": [
    "# K-fold cross validation + grid search\n",
    "from pyspark.ml.classification import RandomForestClassifier\n",
    "\n",
    "model = RandomForestClassifier(featuresCol='pca_features', labelCol='traffic_condition', predictionCol='prediction', seed=11)\n",
    "grid = ParamGridBuilder().addGrid(model.maxDepth, [10]).addGrid(model.numTrees, [100]).addGrid(model.featureSubsetStrategy, ['log2']).build()\n",
    "evaluator = MulticlassClassificationEvaluator(predictionCol='prediction', labelCol='traffic_condition', metricName='accuracy')\n",
    "\n",
    "rf_cv = CrossValidator(estimator=model, estimatorParamMaps=grid, evaluator=evaluator, numFolds=3, seed=11).fit(train)"
   ]
  },
  {
   "cell_type": "code",
   "execution_count": 94,
   "id": "00ce4c66-d4bb-48cb-9b80-3f14bcac80be",
   "metadata": {},
   "outputs": [
    {
     "name": "stdout",
     "output_type": "stream",
     "text": [
      "Best model accuracy: 0.8808\n",
      "\n",
      "Best model parameters:\n",
      "{Param(parent='RandomForestClassifier_b4efcbfba136', name='maxDepth', doc='Maximum depth of the tree. (>= 0) E.g., depth 0 means 1 leaf node; depth 1 means 1 internal node + 2 leaf nodes. Must be in range [0, 30].'): 10, Param(parent='RandomForestClassifier_b4efcbfba136', name='numTrees', doc='Number of trees to train (>= 1).'): 100, Param(parent='RandomForestClassifier_b4efcbfba136', name='featureSubsetStrategy', doc=\"The number of features to consider for splits at each tree node. Supported options: 'auto' (choose automatically for task: If numTrees == 1, set to 'all'. If numTrees > 1 (forest), set to 'sqrt' for classification and to 'onethird' for regression), 'all' (use all features), 'onethird' (use 1/3 of the features), 'sqrt' (use sqrt(number of features)), 'log2' (use log2(number of features)), 'n' (when n is in the range (0, 1.0], use n * number of features. When n is in the range (1, number of features), use n features). default = 'auto'\"): 'log2'}\n"
     ]
    }
   ],
   "source": [
    "# Best model parameters\n",
    "rf_cv_result = list(zip(rf_cv.avgMetrics, grid))\n",
    "rf_cv_result.sort(key=lambda x: (-x[0], str(x[1])), reverse=False)\n",
    "\n",
    "print(f'Best model accuracy: {rf_cv_result[0][0]:.4f}\\n')\n",
    "print(f'Best model parameters:\\n{rf_cv_result[0][1]}')"
   ]
  },
  {
   "cell_type": "code",
   "execution_count": 95,
   "id": "2fbac604-7722-4e01-903f-02237aebc020",
   "metadata": {},
   "outputs": [
    {
     "name": "stdout",
     "output_type": "stream",
     "text": [
      "+--------------------+-----------------+----------+\n",
      "|        pca_features|traffic_condition|prediction|\n",
      "+--------------------+-----------------+----------+\n",
      "|[-1.7284774205009...|                0|       0.0|\n",
      "|[-1.7228361722095...|                0|       0.0|\n",
      "|[-1.7227574850183...|                0|       0.0|\n",
      "|[-1.7149722273987...|                0|       0.0|\n",
      "|[-1.6860075637738...|                0|       0.0|\n",
      "+--------------------+-----------------+----------+\n",
      "only showing top 5 rows\n",
      "\n"
     ]
    }
   ],
   "source": [
    "# Use the best model to make predictions on the test set\n",
    "rf_model = rf_cv.bestModel\n",
    "\n",
    "rf_pred = rf_model.transform(test)\n",
    "rf_pred.select('pca_features', 'traffic_condition', 'prediction').show(5)"
   ]
  },
  {
   "cell_type": "code",
   "execution_count": 96,
   "id": "7d50f21b-a440-4644-98e1-e2cc0a50e6ab",
   "metadata": {},
   "outputs": [
    {
     "data": {
      "text/plain": [
       "SparseVector(30, {0: 0.6115, 1: 0.0552, 2: 0.0969, 3: 0.0199, 4: 0.0323, 5: 0.0195, 6: 0.0164, 7: 0.0126, 8: 0.0149, 9: 0.0151, 10: 0.01, 11: 0.0024, 12: 0.0015, 13: 0.0019, 14: 0.0056, 15: 0.0013, 16: 0.0012, 17: 0.0013, 18: 0.0014, 19: 0.0012, 20: 0.0019, 21: 0.0011, 22: 0.0095, 23: 0.0175, 24: 0.0064, 25: 0.0123, 26: 0.0066, 27: 0.0043, 28: 0.0122, 29: 0.006})"
      ]
     },
     "execution_count": 96,
     "metadata": {},
     "output_type": "execute_result"
    }
   ],
   "source": [
    "# Feature importance\n",
    "rf_model.featureImportances"
   ]
  },
  {
   "cell_type": "code",
   "execution_count": 97,
   "id": "422db7e0-e45d-400a-b5c4-92c59c9584c9",
   "metadata": {},
   "outputs": [
    {
     "name": "stdout",
     "output_type": "stream",
     "text": [
      "Confusion matrix\n",
      "[[2541.  285.    6.]\n",
      " [ 308. 2254.  242.]\n",
      " [  14.  149. 2499.]]\n",
      "\n",
      " Accuracy -  0.8790\n",
      "Precision -  Class 0: 0.8875,  Class 1: 0.8385,  Class 2: 0.9097\n",
      "   Recall -  Class 0: 0.8972,  Class 1: 0.8039,  Class 2: 0.9388\n",
      " F1 score -  Class 0: 0.8924,  Class 1: 0.8208,  Class 2: 0.9240\n"
     ]
    }
   ],
   "source": [
    "# Test set results\n",
    "predictionAndLabels = rf_pred.withColumn('traffic_condition', rf_pred['traffic_condition'].cast(FloatType())).orderBy('prediction')\n",
    "predictionAndLabels = predictionAndLabels.select(['prediction', 'traffic_condition']).rdd.map(tuple)\n",
    "metrics = MulticlassMetrics(predictionAndLabels)\n",
    "\n",
    "print('Confusion matrix')\n",
    "print(metrics.confusionMatrix().toArray())  # Column labels are prediction classes\n",
    "print()\n",
    "print(f' Accuracy -  {metrics.accuracy:.4f}')\n",
    "print(f'Precision -  Class 0: {metrics.precision(0.0):.4f},  Class 1: {metrics.precision(1.0):.4f},  Class 2: {metrics.precision(2.0):.4f}')\n",
    "print(f'   Recall -  Class 0: {metrics.recall(0.0):.4f},  Class 1: {metrics.recall(1.0):.4f},  Class 2: {metrics.recall(2.0):.4f}')\n",
    "print(f' F1 score -  Class 0: {metrics.fMeasure(0.0):.4f},  Class 1: {metrics.fMeasure(1.0):.4f},  Class 2: {metrics.fMeasure(2.0):.4f}')"
   ]
  },
  {
   "cell_type": "markdown",
   "id": "ffeaac49-02be-4bf1-abba-0ea370d70687",
   "metadata": {},
   "source": [
    "#### 4-3. Naive Bayes"
   ]
  },
  {
   "cell_type": "code",
   "execution_count": 48,
   "id": "4b878141-e809-4b8e-9c67-ca7ba06ee5cd",
   "metadata": {},
   "outputs": [],
   "source": [
    "# K-fold cross validation + grid search\n",
    "from pyspark.ml.classification import NaiveBayes\n",
    "\n",
    "model = NaiveBayes(featuresCol='pca_features', labelCol='traffic_condition', predictionCol='prediction', modelType='gaussian')\n",
    "grid = ParamGridBuilder().addGrid(model.smoothing, [0.5, 1.0]).build()\n",
    "evaluator = MulticlassClassificationEvaluator(predictionCol='prediction', labelCol='traffic_condition', metricName='accuracy')\n",
    "\n",
    "nb_cv = CrossValidator(estimator=model, estimatorParamMaps=grid, evaluator=evaluator, numFolds=3, seed=11).fit(train)"
   ]
  },
  {
   "cell_type": "code",
   "execution_count": 49,
   "id": "1c56e97e-cad2-49c4-8e7b-5de7092048f6",
   "metadata": {},
   "outputs": [
    {
     "name": "stdout",
     "output_type": "stream",
     "text": [
      "Best model accuracy: 0.8088\n",
      "\n",
      "Best model parameters:\n",
      "{Param(parent='NaiveBayes_5958225555cd', name='smoothing', doc='The smoothing parameter, should be >= 0, default is 1.0'): 0.5}\n"
     ]
    }
   ],
   "source": [
    "# Best model parameters\n",
    "nb_cv_result = list(zip(nb_cv.avgMetrics, grid))\n",
    "nb_cv_result.sort(key=lambda x: (-x[0], str(x[1])), reverse=False)\n",
    "\n",
    "print(f'Best model accuracy: {nb_cv_result[0][0]:.4f}\\n')\n",
    "print(f'Best model parameters:\\n{nb_cv_result[0][1]}')"
   ]
  },
  {
   "cell_type": "code",
   "execution_count": 50,
   "id": "a0e6851c-a856-4c89-808a-45cad106d8b7",
   "metadata": {},
   "outputs": [
    {
     "name": "stdout",
     "output_type": "stream",
     "text": [
      "+--------------------+-----------------+----------+\n",
      "|        pca_features|traffic_condition|prediction|\n",
      "+--------------------+-----------------+----------+\n",
      "|[-1.7284774205009...|                0|       0.0|\n",
      "|[-1.7228361722095...|                0|       0.0|\n",
      "|[-1.7227574850183...|                0|       0.0|\n",
      "|[-1.7149722273987...|                0|       0.0|\n",
      "|[-1.6860075637738...|                0|       0.0|\n",
      "+--------------------+-----------------+----------+\n",
      "only showing top 5 rows\n",
      "\n"
     ]
    }
   ],
   "source": [
    "# Use the best model to make predictions on the test set\n",
    "nb_model = nb_cv.bestModel\n",
    "\n",
    "nb_pred = nb_model.transform(test)\n",
    "nb_pred.select('pca_features', 'traffic_condition', 'prediction').show(5)"
   ]
  },
  {
   "cell_type": "code",
   "execution_count": 51,
   "id": "48ee9b6a-afbb-499f-abc9-6c092b7dbdf5",
   "metadata": {},
   "outputs": [
    {
     "name": "stdout",
     "output_type": "stream",
     "text": [
      "Confusion matrix\n",
      "[[2280.  529.   23.]\n",
      " [ 518. 2017.  269.]\n",
      " [  20.  250. 2392.]]\n",
      "\n",
      " Accuracy -  0.8061\n",
      "Precision -  Class 0: 0.8091,  Class 1: 0.7214,  Class 2: 0.8912\n",
      "   Recall -  Class 0: 0.8051,  Class 1: 0.7193,  Class 2: 0.8986\n",
      " F1 score -  Class 0: 0.8071,  Class 1: 0.7204,  Class 2: 0.8949\n"
     ]
    }
   ],
   "source": [
    "# Test set results\n",
    "predictionAndLabels = nb_pred.withColumn('traffic_condition', nb_pred['traffic_condition'].cast(FloatType())).orderBy('prediction')\n",
    "predictionAndLabels = predictionAndLabels.select(['prediction', 'traffic_condition']).rdd.map(tuple)\n",
    "metrics = MulticlassMetrics(predictionAndLabels)\n",
    "\n",
    "print('Confusion matrix')\n",
    "print(metrics.confusionMatrix().toArray())  # Column labels are prediction classes\n",
    "print()\n",
    "print(f' Accuracy -  {metrics.accuracy:.4f}')\n",
    "print(f'Precision -  Class 0: {metrics.precision(0.0):.4f},  Class 1: {metrics.precision(1.0):.4f},  Class 2: {metrics.precision(2.0):.4f}')\n",
    "print(f'   Recall -  Class 0: {metrics.recall(0.0):.4f},  Class 1: {metrics.recall(1.0):.4f},  Class 2: {metrics.recall(2.0):.4f}')\n",
    "print(f' F1 score -  Class 0: {metrics.fMeasure(0.0):.4f},  Class 1: {metrics.fMeasure(1.0):.4f},  Class 2: {metrics.fMeasure(2.0):.4f}')"
   ]
  },
  {
   "cell_type": "markdown",
   "id": "d4783c3f-222e-445b-a12a-6cd5ee16ba71",
   "metadata": {},
   "source": [
    "#### 4-4. Linear SVC"
   ]
  },
  {
   "cell_type": "code",
   "execution_count": 52,
   "id": "59ef0b6e-973e-4ff9-9e31-755a8bcf6b83",
   "metadata": {},
   "outputs": [],
   "source": [
    "# K-fold cross validation + grid search\n",
    "from pyspark.ml.classification import LinearSVC, OneVsRest\n",
    "\n",
    "model = LinearSVC(featuresCol='pca_features', labelCol='traffic_condition', predictionCol='prediction')\n",
    "ovr = OneVsRest(featuresCol='pca_features', labelCol='traffic_condition', predictionCol='prediction', classifier=model)\n",
    "grid = ParamGridBuilder().addGrid(model.maxIter, [50, 150]).build()\n",
    "evaluator = MulticlassClassificationEvaluator(predictionCol='prediction', labelCol='traffic_condition', metricName='accuracy')\n",
    "\n",
    "svc_cv = CrossValidator(estimator=ovr, estimatorParamMaps=grid, evaluator=evaluator, numFolds=3, seed=11).fit(train)"
   ]
  },
  {
   "cell_type": "code",
   "execution_count": 53,
   "id": "37328de2-5eee-4c1b-8119-e450a27138c8",
   "metadata": {},
   "outputs": [
    {
     "name": "stdout",
     "output_type": "stream",
     "text": [
      "Best model accuracy: 0.8144\n",
      "\n",
      "Best model parameters:\n",
      "{Param(parent='LinearSVC_9aff91e8794f', name='maxIter', doc='max number of iterations (>= 0).'): 150}\n"
     ]
    }
   ],
   "source": [
    "# Best model parameters\n",
    "svc_cv_result = list(zip(svc_cv.avgMetrics, grid))\n",
    "svc_cv_result.sort(key=lambda x: (-x[0], str(x[1])), reverse=False)\n",
    "\n",
    "print(f'Best model accuracy: {svc_cv_result[0][0]:.4f}\\n')\n",
    "print(f'Best model parameters:\\n{svc_cv_result[0][1]}')"
   ]
  },
  {
   "cell_type": "code",
   "execution_count": 54,
   "id": "b09a764a-e292-434a-9b6d-7f302ea9282e",
   "metadata": {},
   "outputs": [
    {
     "name": "stdout",
     "output_type": "stream",
     "text": [
      "+--------------------+-----------------+----------+\n",
      "|        pca_features|traffic_condition|prediction|\n",
      "+--------------------+-----------------+----------+\n",
      "|[-1.7284774205009...|                0|       0.0|\n",
      "|[-1.7228361722095...|                0|       0.0|\n",
      "|[-1.7227574850183...|                0|       0.0|\n",
      "|[-1.7149722273987...|                0|       0.0|\n",
      "|[-1.6860075637738...|                0|       0.0|\n",
      "+--------------------+-----------------+----------+\n",
      "only showing top 5 rows\n",
      "\n"
     ]
    }
   ],
   "source": [
    "# Use the best model to make predictions on the test set\n",
    "svc_model = svc_cv.bestModel\n",
    "\n",
    "svc_pred = svc_model.transform(test)\n",
    "svc_pred.select('pca_features', 'traffic_condition', 'prediction').show(5)"
   ]
  },
  {
   "cell_type": "code",
   "execution_count": 55,
   "id": "5deefdd5-6876-46ad-be99-13582535b480",
   "metadata": {},
   "outputs": [
    {
     "name": "stdout",
     "output_type": "stream",
     "text": [
      "Confusion matrix\n",
      "[[2735.   91.    6.]\n",
      " [ 787. 1427.  590.]\n",
      " [  31.   82. 2549.]]\n",
      "\n",
      " Accuracy -  0.8087\n",
      "Precision -  Class 0: 0.7698,  Class 1: 0.8919,  Class 2: 0.8105\n",
      "   Recall -  Class 0: 0.9657,  Class 1: 0.5089,  Class 2: 0.9576\n",
      " F1 score -  Class 0: 0.8567,  Class 1: 0.6480,  Class 2: 0.8779\n"
     ]
    }
   ],
   "source": [
    "# Test set results\n",
    "predictionAndLabels = svc_pred.withColumn('traffic_condition', svc_pred['traffic_condition'].cast(FloatType())).orderBy('prediction')\n",
    "predictionAndLabels = predictionAndLabels.select(['prediction', 'traffic_condition']).rdd.map(tuple)\n",
    "metrics = MulticlassMetrics(predictionAndLabels)\n",
    "\n",
    "print('Confusion matrix')\n",
    "print(metrics.confusionMatrix().toArray())  # Column labels are prediction classes\n",
    "print()\n",
    "print(f' Accuracy -  {metrics.accuracy:.4f}')\n",
    "print(f'Precision -  Class 0: {metrics.precision(0.0):.4f},  Class 1: {metrics.precision(1.0):.4f},  Class 2: {metrics.precision(2.0):.4f}')\n",
    "print(f'   Recall -  Class 0: {metrics.recall(0.0):.4f},  Class 1: {metrics.recall(1.0):.4f},  Class 2: {metrics.recall(2.0):.4f}')\n",
    "print(f' F1 score -  Class 0: {metrics.fMeasure(0.0):.4f},  Class 1: {metrics.fMeasure(1.0):.4f},  Class 2: {metrics.fMeasure(2.0):.4f}')"
   ]
  },
  {
   "cell_type": "code",
   "execution_count": null,
   "id": "62a7a8c7-0d2d-4c87-a1ec-1601d1c527de",
   "metadata": {},
   "outputs": [],
   "source": []
  }
 ],
 "metadata": {
  "kernelspec": {
   "display_name": "Python 3 (ipykernel)",
   "language": "python",
   "name": "python3"
  },
  "language_info": {
   "codemirror_mode": {
    "name": "ipython",
    "version": 3
   },
   "file_extension": ".py",
   "mimetype": "text/x-python",
   "name": "python",
   "nbconvert_exporter": "python",
   "pygments_lexer": "ipython3",
   "version": "3.9.12"
  }
 },
 "nbformat": 4,
 "nbformat_minor": 5
}
